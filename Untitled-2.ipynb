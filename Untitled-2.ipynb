{
 "cells": [
  {
   "cell_type": "code",
   "execution_count": 1,
   "metadata": {},
   "outputs": [
    {
     "name": "stderr",
     "output_type": "stream",
     "text": [
      "<ipython-input-1-8bb6853d98d3>:9: DeprecationWarning: executable_path has been deprecated, please pass in a Service object\n",
      "  driver= webdriver.Chrome(path)\n"
     ]
    }
   ],
   "source": [
    "from selenium import webdriver\n",
    "from selenium.webdriver.support.select import Select\n",
    "import requests\n",
    "from bs4 import BeautifulSoup\n",
    "import pandas as pd\n",
    "from selenium.common.exceptions import NoSuchElementException\n",
    "\n",
    "path='D:\\Morroco\\chromedriver.exe'\n",
    "driver= webdriver.Chrome(path)\n",
    "procedure = []\n",
    "categorie = []\n",
    "type_of_work = []\n",
    "posting_time = []\n",
    "reference = []\n",
    "programmme = []\n",
    "objet = []\n",
    "acheteur_public = []\n",
    "lieu_d_execution = []\n",
    "date_close = []\n",
    "time_close = []\n",
    "action = []\n",
    "industry = []\n",
    "type_of_work = []"
   ]
  },
  {
   "cell_type": "code",
   "execution_count": 2,
   "metadata": {},
   "outputs": [],
   "source": [
    "l = ['1.23','1.15','1.21','1.10','1.12','1.13','1.16','1.17','1.14','1.22','1.18','1.19','1.11','1.20','2.22','2.23','2.20','2.70','2.17','2.21','2.15','2.10','2.18','2.19','2.80','2.14','2.16','2.24','2.16','2.11','2.12','2.90','2.13','3.17','3.10','3.11','3.16','3.18','3.22','3.15','3.14','3.12','3.13','3.19','3.21','3.20']\n",
    "url_list = []\n",
    "for i in l:\n",
    "    url_list.append(f\"https://www.marchespublics.gov.ma/index.php?page=entreprise.EntrepriseAdvancedSearch&AllCons&EnCours&domaineActivite={i}\")"
   ]
  },
  {
   "cell_type": "code",
   "execution_count": 3,
   "metadata": {},
   "outputs": [],
   "source": [
    "url_list=['https://www.marchespublics.gov.ma/index.php?page=entreprise.EntrepriseAdvancedSearch&AllCons&EnCours&searchAnnCons']"
   ]
  },
  {
   "cell_type": "code",
   "execution_count": 8,
   "metadata": {},
   "outputs": [
    {
     "name": "stderr",
     "output_type": "stream",
     "text": [
      "<ipython-input-8-0f1132d44369>:5: DeprecationWarning: find_element_by_* commands are deprecated. Please use find_element() instead\n",
      "  drop_dwn=driver.find_element_by_id(\"ctl0_CONTENU_PAGE_resultSearch_listePageSizeTop\")\n",
      "<ipython-input-8-0f1132d44369>:54: DeprecationWarning: find_element_by_* commands are deprecated. Please use find_element() instead\n",
      "  nxt= driver.find_element_by_xpath('//a[@href=\"javascript:;//ctl0_CONTENU_PAGE_resultSearch_PagerTop_ctl2\"]')\n"
     ]
    },
    {
     "data": {
      "text/plain": [
       "<bound method ChromiumDriver.quit of <selenium.webdriver.chrome.webdriver.WebDriver (session=\"6c8c67a5ce0bda4be2c1625a1dcb9caf\")>>"
      ]
     },
     "execution_count": 8,
     "metadata": {},
     "output_type": "execute_result"
    }
   ],
   "source": [
    "for url in url_list:\n",
    "    try:\n",
    "        driver.get(url)\n",
    "        driver.maximize_window()\n",
    "        drop_dwn=driver.find_element_by_id(\"ctl0_CONTENU_PAGE_resultSearch_listePageSizeTop\")\n",
    "        size=Select(drop_dwn)\n",
    "        size.select_by_visible_text('500')\n",
    "        html = driver.page_source\n",
    "        soup = BeautifulSoup(html,'html.parser')\n",
    "        no_of_pages = soup.find('div','ctl0_CONTENU_PAGE_resultSearch_nombrePageTop',class_='nb-total').text.split('/ ')[-1]\n",
    "        \n",
    "        col_1 = soup.find_all( 'td',class_ = 'col-90')\n",
    "        col_2 = soup.find_all( 'td',class_ = 'col-450')\n",
    "        col_4 = soup.find_all( 'div',class_ = 'cloture-line')\n",
    "        col_5 = soup.find_all( 'td',class_ = 'actions col-panier')\n",
    "        \n",
    "        for i in range(0,len(col_1),2):\n",
    "            aoo = col_1[i].text.split('\\n')[2].split('\\t')[-1].rstrip()\n",
    "            aooo = col_1[i].text.split('\\n')[9].split('\\t')[-1].rstrip()\n",
    "            ao = col_1[i].text.split('\\n')[13].split('\\t')[-1].rstrip()\n",
    "            time = pd.to_datetime(col_1[i].text.split('\\n')[16].split('\\t')[-1].lstrip())\n",
    "            procedure.append(aoo)\n",
    "            categorie.append(aooo)\n",
    "            type_of_work.append(ao)\n",
    "            posting_time.append(time)\n",
    "\n",
    "        for i in range(0,len(col_2)):\n",
    "            q = col_2[i].text.split('\\n')[3].rstrip()\n",
    "            qq = col_2[i].text.split('\\n')[13].split('\\t')[-1].rstrip()\n",
    "            qqq = col_2[i].text.split('\\n')[17].split('\\t')[-1].rstrip()\n",
    "            qqqq = col_2[i].text.split('\\n')[23].split('\\t')[-1].rstrip()\n",
    "            reference.append(q)\n",
    "            programmme.append(qq)\n",
    "            objet.append(qqq)\n",
    "            acheteur_public.append(qqqq)\n",
    "\n",
    "        for i in range(1,len(col_1),2):\n",
    "            place = col_1[i].text.split('\\n')[13].rstrip()\n",
    "            lieu_d_execution.append(place)\n",
    "\n",
    "        for i in range(0,len(col_4),2):\n",
    "            date = pd.to_datetime(col_4[i].text.split('\\t')[9].split('\\n')[0][:-5])\n",
    "            time = col_4[i].text.split('\\t')[9].split('\\n')[0][-5:]\n",
    "            date_close.append(date)\n",
    "            time_close.append(time)\n",
    "\n",
    "        for i in range(0,len(col_2)):\n",
    "            link = str(col_5[i]).split('span')[2].split('\"')[1].replace(\"&amp;\",\"&\")\n",
    "            action.append(link)\n",
    "            industry.append(url[-4:])\n",
    "        \n",
    "        if int(no_of_pages) > 1:\n",
    "            for i in range(1,int(no_of_pages)):\n",
    "                nxt= driver.find_element_by_xpath('//a[@href=\"javascript:;//ctl0_CONTENU_PAGE_resultSearch_PagerTop_ctl2\"]')\n",
    "                nxt.click()\n",
    "                html_1 = driver.page_source\n",
    "                soup_1 = BeautifulSoup(html_1,'html.parser')\n",
    "                \n",
    "                col_1 = soup.find_all( 'td',class_ = 'col-90')\n",
    "                col_2 = soup.find_all( 'td',class_ = 'col-450')\n",
    "                col_4 = soup.find_all( 'div',class_ = 'cloture-line')\n",
    "                col_5 = soup.find_all( 'td',class_ = 'actions col-panier')\n",
    "                \n",
    "                for i in range(0,len(col_1),2):\n",
    "                    aoo = col_1[i].text.split('\\n')[2].split('\\t')[-1].rstrip()\n",
    "                    aooo = col_1[i].text.split('\\n')[9].split('\\t')[-1].rstrip()\n",
    "                    ao = col_1[i].text.split('\\n')[13].split('\\t')[-1].rstrip()\n",
    "                    time = pd.to_datetime(col_1[i].text.split('\\n')[16].split('\\t')[-1].lstrip())\n",
    "                    procedure.append(aoo)\n",
    "                    categorie.append(aooo)\n",
    "                    type_of_work.append(ao)\n",
    "                    posting_time.append(time)\n",
    "\n",
    "                for i in range(0,len(col_2)):\n",
    "                    q = col_2[i].text.split('\\n')[3].rstrip()\n",
    "                    qq = col_2[i].text.split('\\n')[13].split('\\t')[-1].rstrip()\n",
    "                    qqq = col_2[i].text.split('\\n')[17].split('\\t')[-1].rstrip()\n",
    "                    qqqq = col_2[i].text.split('\\n')[23].split('\\t')[-1].rstrip()\n",
    "                    reference.append(q)\n",
    "                    programmme.append(qq)\n",
    "                    objet.append(qqq)\n",
    "                    acheteur_public.append(qqqq)\n",
    "\n",
    "                for i in range(1,len(col_1),2):\n",
    "                    place = col_1[i].text.split('\\n')[13].rstrip()\n",
    "                    lieu_d_execution.append(place)\n",
    "\n",
    "                for i in range(0,len(col_4),2):\n",
    "                    date = pd.to_datetime(col_4[i].text.split('\\t')[9].split('\\n')[0][:-5])\n",
    "                    time = col_4[i].text.split('\\t')[9].split('\\n')[0][-5:]\n",
    "                    date_close.append(date)\n",
    "                    time_close.append(time)\n",
    "\n",
    "                for i in range(0,len(col_2)):\n",
    "                    link = str(col_5[i]).split('span')[2].split('\"')[1].replace(\"&amp;\",\"&\")\n",
    "                    action.append(link)\n",
    "                    industry.append(url[-4:])\n",
    "\n",
    "    except NoSuchElementException:\n",
    "        pass\n",
    "\n",
    "    industry = [i.replace('1.23','Travaux Forestiers') for i in industry]\n",
    "    industry = [i.replace('1.15','Travaux de construction et d’aménagement') for i in industry]\n",
    "    industry = [i.replace('1.21','Travaux hydrauliques, maritimes et fluviaux') for i in industry]\n",
    "    industry = [i.replace('1.10','Terrassements') for i in industry]\n",
    "    industry = [i.replace('1.12','Travaux de voiries, chemins et pistes') for i in industry]\n",
    "    industry = [i.replace('1.13','Travaux d’assainissement, d’eau potable et de réseaux divers') for i in industry]\n",
    "    industry = [i.replace('1.16','Travaux d’installation') for i in industry]\n",
    "    industry = [i.replace('1.17','Travaux d’électricité') for i in industry]\n",
    "    industry = [i.replace('1.14',\"Construction d'ouvrages d'art\") for i in industry]\n",
    "    industry = [i.replace('1.22',\"Aménagement de jardins, d'espaces verts\") for i in industry]\n",
    "    industry = [i.replace('1.18','Travaux d’étanchéité, isolation, plomberie et menuiserie') for i in industry]\n",
    "    industry = [i.replace('1.19','Travaux de revêtement, platerie et peinture') for i in industry]\n",
    "    industry = [i.replace('1.11','Fondations, injections, parois moulées, sondages et forages') for i in industry]\n",
    "    industry = [i.replace('1.2','Travaux de décoration d’intérieur') for i in industry]\n",
    "    industry = [i.replace('2.22','Engins de chantier, matériel de manutention et de levage') for i in industry]\n",
    "    industry = [i.replace('2.23','Matériel de transport, pièces de rechange et pneumatiques') for i in industry]\n",
    "    industry = [i.replace('2.20','Matériel et fournitures électriques, électronique, électromécanique et pièces de rechange') for i in industry]\n",
    "    industry = [i.replace('2.70','Produits alimentaires, d’élevage, de la pêche, d’agriculture, d’horticulture et pépinière') for i in industry]\n",
    "    industry = [i.replace('2.17','Documentation, manuels, fournitures scolaires et d’enseignement') for i in industry]\n",
    "    industry = [i.replace('2.21','Matériel technique, de lutte contre l’incendie et pièces de rechange') for i in industry]\n",
    "    industry = [i.replace('2.15','Equipements et produits médicaux, pharmaceutiques et de laboratoire') for i in industry]\n",
    "    industry = [i.replace('2.10','Matières premières et produits de textile, cuir, caoutchouc et plastique') for i in industry]\n",
    "    industry = [i.replace('2.18','Matériel informatique, logiciels et pièces de rechanges') for i in industry]\n",
    "    industry = [i.replace('2.19','Matériel, mobilier et fournitures de bureau') for i in industry]\n",
    "    industry = [i.replace('2.80','Produits pétroliers, carburants, lubrifiants et produits de chauffage') for i in industry]\n",
    "    industry = [i.replace('2.14','Imprimés, produits d’impression, de reproduction, et de photographie') for i in industry]\n",
    "    industry = [i.replace('2.16','Location avec option d’achat de biens, d’équipements de matériel et d’outillage') for i in industry]\n",
    "    industry = [i.replace('2.24','Matériel et articles de literie, de couchage, de cuisine et de buanderie') for i in industry]\n",
    "    industry = [i.replace('2.16','Matériaux de construction, plomberie, quincaillerie et outillages') for i in industry]\n",
    "    industry = [i.replace('2.11','Effets d’habillement et accessoires') for i in industry]\n",
    "    industry = [i.replace('2.12','Matériel et articles de sport, médailles, effigies et drapeaux') for i in industry]\n",
    "    industry = [i.replace('2.90','Produits chimiques, de nettoyage, insecticides') for i in industry]\n",
    "    industry = [i.replace('2.13','Objets d’art, articles artistiques, de divertissement et de médiathèque') for i in industry]\n",
    "    industry = [i.replace('3.17','Services architecturales et topographiques') for i in industry]\n",
    "    industry = [i.replace('3.10','Etudes d’ingénierie') for i in industry]\n",
    "    industry = [i.replace('3.11','Conseil, audit et assistance à maitrise d’ouvrage (à l’exception du domaine des nouvelles technologies)') for i in industry]\n",
    "    industry = [i.replace('3.16','Prestations d’essais, de contrôle et de laboratoire') for i in industry]\n",
    "    industry = [i.replace('3.18','Services d’hôtellerie, hébergement, restauration, événementiel et marketing') for i in industry]\n",
    "    industry = [i.replace('3.22','Services de santé, vétérinaire') for i in industry]\n",
    "    industry = [i.replace('3.15','Nettoyage, gardiennage, entretien et maintenance') for i in industry]\n",
    "    industry = [i.replace('3.14','Transport, collecte et services connexes') for i in industry]\n",
    "    industry = [i.replace('3.12','Services courants') for i in industry]\n",
    "    industry = [i.replace('3.13','Services de location sans option d’achat') for i in industry]\n",
    "    industry = [i.replace('3.19',\"Services de technologies de l'information et télécommunications\") for i in industry]\n",
    "    industry = [i.replace('3.21','Services agricoles, d’élevage, de pêche') for i in industry]\n",
    "    industry = [i.replace('3.20','Services d’assurance') for i in industry]\n",
    "\n",
    "    df = pd.DataFrame({'procedure':procedure,'categorie':categorie,'type_of_work':type_of_work,'posting_time':posting_time,'reference':reference,'programmme':programmme,'objet':objet,'acheteur_public':acheteur_public,'lieu_d_execution':lieu_d_execution,'date_close':date_close,'time_close':time_close,'action':action,'industry':industry})\n",
    "    df.to_csv(\"D:\\Morroco/data1.csv\")\n",
    "driver.quit\n"
   ]
  },
  {
   "cell_type": "code",
   "execution_count": 7,
   "metadata": {},
   "outputs": [
    {
     "data": {
      "text/plain": [
       "3"
      ]
     },
     "execution_count": 7,
     "metadata": {},
     "output_type": "execute_result"
    }
   ],
   "source": [
    "int(no_of_pages)"
   ]
  },
  {
   "cell_type": "code",
   "execution_count": null,
   "metadata": {},
   "outputs": [],
   "source": []
  }
 ],
 "metadata": {
  "interpreter": {
   "hash": "b3ba2566441a7c06988d0923437866b63cedc61552a5af99d1f4fb67d367b25f"
  },
  "kernelspec": {
   "display_name": "Python 3.8.8 64-bit ('base': conda)",
   "language": "python",
   "name": "python3"
  },
  "language_info": {
   "codemirror_mode": {
    "name": "ipython",
    "version": 3
   },
   "file_extension": ".py",
   "mimetype": "text/x-python",
   "name": "python",
   "nbconvert_exporter": "python",
   "pygments_lexer": "ipython3",
   "version": "3.8.8"
  },
  "orig_nbformat": 4
 },
 "nbformat": 4,
 "nbformat_minor": 2
}
